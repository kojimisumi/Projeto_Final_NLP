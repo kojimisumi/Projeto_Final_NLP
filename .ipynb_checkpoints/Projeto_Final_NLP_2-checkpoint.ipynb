{
 "cells": [
  {
   "cell_type": "markdown",
   "metadata": {},
   "source": [
    "# Parte 2"
   ]
  },
  {
   "cell_type": "markdown",
   "metadata": {},
   "source": [
    "Projeto Final do Turing de NLP para os Trainees - Parte 2"
   ]
  },
  {
   "cell_type": "markdown",
   "metadata": {},
   "source": [
    "Essa parte do projeto se trata de aplicarmos um modelo baseado em um outro tipo de análise em NLP que é a aplicação com um método léxico, nesse caso sendo o SentimentIntensistyAnalyzer da biblioteca vaderSentiment_"
   ]
  },
  {
   "cell_type": "code",
   "execution_count": 1,
   "metadata": {},
   "outputs": [],
   "source": [
    "#imports das bibliotecas para o nosso código\n",
    "import pandas as pd\n",
    "import nltk\n",
    "from bs4 import BeautifulSoup\n",
    "from vaderSentiment.vaderSentiment import SentimentIntensityAnalyzer"
   ]
  },
  {
   "cell_type": "code",
   "execution_count": 2,
   "metadata": {},
   "outputs": [],
   "source": [
    "#ler o dataset\n",
    "df = pd.read_csv(\"IMDB Dataset.csv\")"
   ]
  },
  {
   "cell_type": "code",
   "execution_count": 3,
   "metadata": {},
   "outputs": [],
   "source": [
    "def strip_html_tags(texto):\n",
    "    soup = BeautifulSoup(texto, \"html.parser\")\n",
    "    texto_tratado = soup.get_text(separator=\" \")\n",
    "    return texto_tratado"
   ]
  },
  {
   "cell_type": "code",
   "execution_count": 4,
   "metadata": {},
   "outputs": [],
   "source": [
    "#aplicar a função para retirar as tags de html\n",
    "df[\"review_tratado\"] = df[\"review\"].apply(lambda x: strip_html_tags(x))"
   ]
  },
  {
   "cell_type": "markdown",
   "metadata": {},
   "source": [
    "## Aplicação do método léxico\n",
    "* A aplicação do método polarity_scores retorna alguns valores sendo o que vai mais importar para gente o de \"compound\"\n",
    "* Com esse valor, vamos transformar em \"positive\" tudo que for maior que 0 e \"negative\" tudo que for menor que 0\n",
    "* A partir disso, vamos calcular as mesmas métricas calculadas na Parte 1\n",
    "    * Acurácia\n",
    "    * Matriz de confusão \n",
    "    * f1 score"
   ]
  },
  {
   "cell_type": "code",
   "execution_count": 5,
   "metadata": {},
   "outputs": [],
   "source": [
    "#instanciando o modelo\n",
    "analyser = SentimentIntensityAnalyzer()"
   ]
  },
  {
   "cell_type": "code",
   "execution_count": 6,
   "metadata": {
    "scrolled": true
   },
   "outputs": [
    {
     "data": {
      "text/plain": [
       "{'neg': 0.181, 'neu': 0.754, 'pos': 0.065, 'compound': -0.9916}"
      ]
     },
     "execution_count": 6,
     "metadata": {},
     "output_type": "execute_result"
    }
   ],
   "source": [
    "analyser.polarity_scores(df[\"review_tratado\"][0])"
   ]
  },
  {
   "cell_type": "code",
   "execution_count": 7,
   "metadata": {},
   "outputs": [
    {
     "data": {
      "text/plain": [
       "-0.9916"
      ]
     },
     "execution_count": 7,
     "metadata": {},
     "output_type": "execute_result"
    }
   ],
   "source": [
    "analyser.polarity_scores(df[\"review_tratado\"][0])[\"compound\"]"
   ]
  },
  {
   "cell_type": "code",
   "execution_count": 8,
   "metadata": {},
   "outputs": [],
   "source": [
    "#aplicando o método de polarity_scores para o dataset inteiro e guardando na coluna \"compound\"\n",
    "df[\"compound\"] = df[\"review_tratado\"].apply(lambda x: analyser.polarity_scores(x)[\"compound\"])"
   ]
  },
  {
   "cell_type": "code",
   "execution_count": 9,
   "metadata": {},
   "outputs": [],
   "source": [
    "#transformando em \"positive\" ou \"negative\" de acordo com o valor do \"compound\"\n",
    "df[\"compound\"] = df[\"compound\"].apply(lambda x: \"positive\" if x>0 else \"negative\")"
   ]
  },
  {
   "cell_type": "code",
   "execution_count": 10,
   "metadata": {},
   "outputs": [
    {
     "data": {
      "text/plain": [
       "positive    33211\n",
       "negative    16789\n",
       "Name: compound, dtype: int64"
      ]
     },
     "execution_count": 10,
     "metadata": {},
     "output_type": "execute_result"
    }
   ],
   "source": [
    "df[\"compound\"].value_counts()"
   ]
  },
  {
   "cell_type": "code",
   "execution_count": 11,
   "metadata": {},
   "outputs": [],
   "source": [
    "#imports para a avaliação desse método\n",
    "from sklearn.metrics import accuracy_score\n",
    "from sklearn.metrics import confusion_matrix\n",
    "from sklearn.metrics import f1_score\n",
    "from sklearn.metrics import classification_report"
   ]
  },
  {
   "cell_type": "code",
   "execution_count": 12,
   "metadata": {},
   "outputs": [
    {
     "data": {
      "text/plain": [
       "0.6983"
      ]
     },
     "execution_count": 12,
     "metadata": {},
     "output_type": "execute_result"
    }
   ],
   "source": [
    "#calculando a acurácia\n",
    "ACC = accuracy_score(df[\"sentiment\"], df[\"compound\"])\n",
    "ACC"
   ]
  },
  {
   "cell_type": "code",
   "execution_count": 13,
   "metadata": {},
   "outputs": [
    {
     "name": "stdout",
     "output_type": "stream",
     "text": [
      "[[13352 11648]\n",
      " [ 3437 21563]]\n"
     ]
    }
   ],
   "source": [
    "#matriz de confusão\n",
    "print(confusion_matrix(df['sentiment'], df['compound']))"
   ]
  },
  {
   "cell_type": "code",
   "execution_count": 14,
   "metadata": {
    "scrolled": true
   },
   "outputs": [
    {
     "name": "stdout",
     "output_type": "stream",
     "text": [
      "              precision    recall  f1-score   support\n",
      "\n",
      "    negative       0.80      0.53      0.64     25000\n",
      "    positive       0.65      0.86      0.74     25000\n",
      "\n",
      "    accuracy                           0.70     50000\n",
      "   macro avg       0.72      0.70      0.69     50000\n",
      "weighted avg       0.72      0.70      0.69     50000\n",
      "\n"
     ]
    }
   ],
   "source": [
    "#outras métricas incluindo o f1 score\n",
    "print(classification_report(df['sentiment'], df['compound']))"
   ]
  },
  {
   "cell_type": "markdown",
   "metadata": {},
   "source": [
    "# Conclusão\n",
    "Diferentemente dos outros modelos testados na parte 1, esse apresentou problemas um pouco mais preocupantes dada a sua avaliação. Tanto a variação de precision e de recall do modelo com \"positive\" e \"negative\" e também um número bem alto de valores de Falso Negative mostram que o nosso modelo está pior que os de antes. Mas mesmo assim, é bem interessante ver a aplicação de um método léxico que utiliza pouco pré-processamento (no caso, apenas retiramos as tags de html) e pensando nisso, atingiu um resultado satisfatório."
   ]
  },
  {
   "cell_type": "markdown",
   "metadata": {},
   "source": [
    "Gostei muito de entender um pouco mais sobre um tipo de método diferente que, por exemplo, considera se é upper ou lower case a palavra para predizer o sentimento da mensagem. Este é um traço que eu considero mais característica humana e pude assim me interessar ainda mais pela área de NLP."
   ]
  },
  {
   "cell_type": "code",
   "execution_count": null,
   "metadata": {},
   "outputs": [],
   "source": []
  }
 ],
 "metadata": {
  "kernelspec": {
   "display_name": "Python 3",
   "language": "python",
   "name": "python3"
  },
  "language_info": {
   "codemirror_mode": {
    "name": "ipython",
    "version": 3
   },
   "file_extension": ".py",
   "mimetype": "text/x-python",
   "name": "python",
   "nbconvert_exporter": "python",
   "pygments_lexer": "ipython3",
   "version": "3.7.6"
  }
 },
 "nbformat": 4,
 "nbformat_minor": 4
}
